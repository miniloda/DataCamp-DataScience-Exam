{
  "cells": [
    {
      "source": "# Data Scientist Professional Practical Exam Submission\n\n**Use this template to write up your summary for submission. Code in Python or R needs to be included.**\n",
      "metadata": {},
      "id": "a3d4387f-fa24-4a80-906b-4cca195b6736",
      "cell_type": "markdown"
    },
    {
      "source": "## 📝 Task List\n\nYour written report should include both code, output and written text summaries of the following:\n- Data Validation:   \n  - Describe validation and cleaning steps for every column in the data \n- Exploratory Analysis:  \n  - Include two different graphics showing single variables only to demonstrate the characteristics of data  \n  - Include at least one graphic showing two or more variables to represent the relationship between features\n  - Describe your findings\n- Model Development\n  - Include your reasons for selecting the models you use as well as a statement of the problem type\n  - Code to fit the baseline and comparison models\n- Model Evaluation\n  - Describe the performance of the two models based on an appropriate metric\n- Business Metrics\n  - Define a way to compare your model performance to the business\n  - Describe how your models perform using this approach\n- Final summary including recommendations that the business should undertake\n\n*Start writing report here..*",
      "metadata": {},
      "id": "562d9d77-2e1e-4523-a28e-1e3b388f930c",
      "cell_type": "markdown"
    },
    {
      "source": "# Start coding here...",
      "metadata": {
        "executionTime": 12,
        "lastSuccessfullyExecutedCode": "# Start coding here..."
      },
      "id": "45554a01-416e-4127-8e3e-53cc0290cb5a",
      "cell_type": "code",
      "execution_count": 1,
      "outputs": []
    },
    {
      "source": "## ✅ When you have finished...\n-  Publish your Workspace using the option on the left\n-  Check the published version of your report:\n\t-  Can you see everything you want us to grade?\n    -  Are all the graphics visible?\n-  Review the grading rubric. Have you included everything that will be graded?\n-  Head back to the [Certification Dashboard](https://app.datacamp.com/certification) to submit your practical exam report and record your presentation",
      "metadata": {},
      "id": "9c5042af-7f73-4808-b735-c262418c9395",
      "cell_type": "markdown"
    }
  ],
  "metadata": {
    "colab": {
      "name": "Welcome to DataCamp Workspaces.ipynb",
      "provenance": []
    },
    "kernelspec": {
      "display_name": "Python 3 (ipykernel)",
      "language": "python",
      "name": "python3"
    },
    "language_info": {
      "codemirror_mode": {
        "name": "ipython",
        "version": 3
      },
      "file_extension": ".py",
      "mimetype": "text/x-python",
      "name": "python",
      "nbconvert_exporter": "python",
      "pygments_lexer": "ipython3",
      "version": "3.8.10"
    }
  },
  "nbformat": 4,
  "nbformat_minor": 5
}
